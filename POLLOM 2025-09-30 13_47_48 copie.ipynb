{
 "metadata": {
  "kernelspec": {
   "display_name": "Streamlit Notebook",
   "name": "streamlit"
  },
  "lastEditStatus": {
   "notebookId": "6jx3n2jpiezf2rarhiih",
   "authorId": "6955386876639",
   "authorName": "POLLOM",
   "authorEmail": "pmontier@albertschool.com",
   "sessionId": "96629521-9460-4268-a7bb-f6afc45e1afc",
   "lastEditTime": 1759235348650
  }
 },
 "nbformat_minor": 5,
 "nbformat": 4,
 "cells": [
  {
   "cell_type": "code",
   "id": "36cba516-205c-4650-b881-82dea3b1e886",
   "metadata": {
    "language": "sql",
    "name": "cell1",
    "collapsed": false,
    "codeCollapsed": false
   },
   "outputs": [],
   "source": "CREATE WAREHOUSE mon_entrepot WITH \n  WAREHOUSE_SIZE = 'XSMALL' \n  AUTO_SUSPEND = 300 \n  AUTO_RESUME = TRUE;\n",
   "execution_count": null
  },
  {
   "cell_type": "code",
   "id": "757f333d-ce65-4e17-bbbb-0ae814e50697",
   "metadata": {
    "language": "sql",
    "name": "cell2",
    "collapsed": false,
    "codeCollapsed": false
   },
   "outputs": [],
   "source": "CREATE DATABASE ma_base;",
   "execution_count": null
  },
  {
   "cell_type": "code",
   "id": "69d63bef-c3bb-4d30-ac34-74a3d44a2535",
   "metadata": {
    "language": "sql",
    "name": "cell3",
    "collapsed": false,
    "codeCollapsed": false
   },
   "outputs": [],
   "source": "CREATE SCHEMA ma_base.mon_schema;",
   "execution_count": null
  },
  {
   "cell_type": "code",
   "id": "68ca178a-57e2-407f-a761-d769c1a4a8ca",
   "metadata": {
    "language": "sql",
    "name": "cell4",
    "collapsed": false,
    "codeCollapsed": false
   },
   "outputs": [],
   "source": "USE WAREHOUSE mon_entrepot;\nUSE DATABASE ma_base;\nUSE SCHEMA mon_schema;\n\nSELECT COUNT(*) FROM CUSTOMERS;\nSELECT COUNT(*) FROM INVENTORY;\nSELECT COUNT(*) FROM ORDERS;\n\nSELECT * FROM CUSTOMERS LIMIT 10;\nSELECT * FROM INVENTORY LIMIT 10;\nSELECT * FROM ORDERS ORDER BY SOLD_AT DESC LIMIT 10;\n",
   "execution_count": null
  },
  {
   "cell_type": "code",
   "id": "f0e13a3b-2f52-4d6b-b3dd-b3655465a1d2",
   "metadata": {
    "language": "sql",
    "name": "cell8",
    "collapsed": false,
    "codeCollapsed": false
   },
   "outputs": [],
   "source": "SELECT COUNT(*) FROM INVENTORY;\nSELECT * FROM INVENTORY;\n",
   "execution_count": null
  },
  {
   "cell_type": "code",
   "id": "799b1d25-e884-40c0-bac2-1b1397f4b489",
   "metadata": {
    "language": "sql",
    "name": "cell7",
    "collapsed": false,
    "codeCollapsed": false
   },
   "outputs": [],
   "source": "SELECT COUNT(*) FROM ORDERS;\nSELECT * FROM ORDERS ORDER BY SOLD_AT DESC;\n",
   "execution_count": null
  },
  {
   "cell_type": "code",
   "id": "67b006bf-ae30-463f-b553-32cc8a07f78b",
   "metadata": {
    "language": "sql",
    "name": "cell6",
    "collapsed": false,
    "codeCollapsed": false
   },
   "outputs": [],
   "source": "SELECT COUNT(*) FROM CUSTOMERS;\nSELECT * FROM CUSTOMERS;\n",
   "execution_count": null
  }
 ]
}